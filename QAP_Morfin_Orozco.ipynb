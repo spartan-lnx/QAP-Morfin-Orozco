{
  "nbformat": 4,
  "nbformat_minor": 0,
  "metadata": {
    "colab": {
      "name": "QAP-Morfin-Orozco.ipynb",
      "provenance": [],
      "collapsed_sections": []
    },
    "kernelspec": {
      "name": "python3",
      "display_name": "Python 3"
    },
    "language_info": {
      "name": "python"
    }
  },
  "cells": [
    {
      "cell_type": "code",
      "source": [
        "import numpy as np\n",
        "import time\n",
        "import random"
      ],
      "metadata": {
        "id": "3MGO5BjfuaIJ"
      },
      "execution_count": null,
      "outputs": []
    },
    {
      "cell_type": "code",
      "source": [
        "class Individual:\n",
        "  \n",
        "  def __init__(self,size,best_known_fitness):\n",
        "    self.chromosome = np.random.permutation(size)\n",
        "    self.size = size\n",
        "    self.fitness = 0\n",
        "    self.best_known_fitness = best_known_fitness\n",
        "  \n",
        "  def mutation(self, mut_prob):\n",
        "    if random.random() <= mut_prob:\n",
        "      mp1 = random.randint(0, self.size - 1)\n",
        "      mp2 = random.randint(0, self.size - 1)\n",
        "      temp_gene = self.chromosome[mp1]\n",
        "      self.chromosome[mp1] = self.chromosome[mp2]\n",
        "      self.chromosome[mp2] = temp_gene\n",
        "\n",
        "  def generateRandom(self, n):\n",
        "    pass\n",
        "\n",
        "  def crossover(self,parent):\n",
        "    pass\n",
        "\n",
        "  def calculate_fitness(self,flow_matrix,distance_matrix):\n",
        "    fitness = 0\n",
        "    for i in range(self.size):\n",
        "      for j in range(i+1,self.size):\n",
        "        fitness = fitness + distance_matrix[i][j]*flowmatrix[self.chromosome[i]][self.chromosome[i]+1]\n",
        "\n",
        "\n",
        "  def __str__(self):\n",
        "    return self.chromosome"
      ],
      "metadata": {
        "id": "5VwHzCjNtnw_"
      },
      "execution_count": null,
      "outputs": []
    },
    {
      "cell_type": "code",
      "source": [
        "def bestTwoOutOfFive(population):\n",
        "  pass\n",
        "\n",
        "def cutAndCrossfill(father, mother, cro_prob):\n",
        "  pass\n",
        "\n",
        "def replaceWorst(population, newIndividual):\n",
        "  pass"
      ],
      "metadata": {
        "id": "Hdg6-0284rrW"
      },
      "execution_count": null,
      "outputs": []
    },
    {
      "cell_type": "code",
      "source": [
        "def geneticAlgorithm(pop_size, cro_prob, mut_prob, ter_cond):\n",
        "  # Variables Initialization\n",
        "  generation = 1\n",
        "\n",
        "  # INITIALISE population with random candidate solutions\n",
        "  population = [ Individual(n) for _in range(pop_size) ]\n",
        "\n",
        "  # Sort candidates based on their fitness\n",
        "  population.sort(key=lambda x: x.fitness, reverse=True)\n",
        "\n",
        "  # Repeat until termination condition is satisfied\n",
        "  while( generation < ter_cond + 1 ):\n",
        "    \n",
        "    # PARENT SELECTION (best two out of five)\n",
        "    father, mother = bestTwoOutOfFive(population)\n",
        "\n",
        "    # CROSSOVER\n",
        "    child1, child2 = cutAndCrossfill(father, mother, cro_prob)\n",
        "\n",
        "    # MUTATION\n",
        "    child1.mutation(mut_prob)\n",
        "    child2.mutation(mut_prob)\n",
        "\n",
        "    # SURVIVOR SELECTION\n",
        "    replaceWorst(population, child1)\n",
        "    replaceWorst(population, child2)\n",
        "\n",
        "    generation += 1\n",
        "  \n",
        "  return (generations-1, population)\n",
        "  "
      ],
      "metadata": {
        "id": "ookZ03k2cj0K"
      },
      "execution_count": null,
      "outputs": []
    },
    {
      "cell_type": "markdown",
      "source": [
        "**Recursos**\n",
        "\n",
        "**Test cases**\n",
        "https://neos-guide.org/content/quadratic-assignment-problem#:~:text=The%20quadratic%20assignment%20problem%20(QAP)%20was%20introduced%20by%20Koopmans%20and,minimize%20the%20total%20assignment%20cost\n",
        "\n",
        "**Datasets**\n",
        "http://www.mgi.polymtl.ca/anjos/qaplib/inst.html"
      ],
      "metadata": {
        "id": "9LYA3s4FrWOr"
      }
    },
    {
      "cell_type": "markdown",
      "source": [
        "**Todo**\n",
        "\n",
        "**Prioridad Alta**\n",
        "*   Esqueleto Clase (Dani)\n",
        "*   Esqueleto Algoritmo (Morfin) ✅\n",
        "*   Mutación (Dani)\n",
        "*   Cruzamiento (Morfin)\n",
        "*   Selección de Padres (Dani)\n",
        "*   Reemplazo (Morfin)\n",
        "*   Fitness (Dani)\n",
        "\n",
        "**Prioridad Media**\n",
        "*   Leer el archivo (Morfin)\n",
        "*   Calcular STD, AVG, max, min (Dani)\n",
        "*   Guardar en archivo la mejor solución (Dani)\n",
        "\n",
        "**Prioridad Baja**\n",
        "*   Calibrar parámetros\n",
        "\n",
        "**Necesario**\n",
        "*   Redactar el reporte"
      ],
      "metadata": {
        "id": "HwevVkCBqtsF"
      }
    },
    {
      "cell_type": "code",
      "source": [
        ""
      ],
      "metadata": {
        "id": "tUx1g4dP_dHF"
      },
      "execution_count": null,
      "outputs": []
    }
  ]
}