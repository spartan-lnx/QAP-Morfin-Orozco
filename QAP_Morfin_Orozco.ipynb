{
  "cells": [
    {
      "cell_type": "code",
      "source": [
        "!pip install numba==0.55.1"
      ],
      "metadata": {
        "id": "OEnW6_M2omss"
      },
      "execution_count": null,
      "outputs": []
    },
    {
      "cell_type": "code",
      "source": [
        "!wget \"http://www.mgi.polymtl.ca/anjos/qaplib/data.d/lipa20a.dat\"\n",
        "!wget \"http://www.mgi.polymtl.ca/anjos/qaplib/data.d/kra30a.dat\"\n",
        "!wget \"http://www.mgi.polymtl.ca/anjos/qaplib/data.d/tai35b.dat\"\n",
        "!wget \"http://www.mgi.polymtl.ca/anjos/qaplib/data.d/tho40.dat\""
      ],
      "metadata": {
        "id": "5kgnQ1bCrqHf"
      },
      "execution_count": null,
      "outputs": []
    },
    {
      "cell_type": "code",
      "execution_count": 3,
      "metadata": {
        "id": "3MGO5BjfuaIJ"
      },
      "outputs": [],
      "source": [
        "import numpy as np\n",
        "import time\n",
        "import random\n",
        "import urllib\n",
        "from numba import njit\n",
        "from IPython.display import clear_output"
      ]
    },
    {
      "cell_type": "code",
      "execution_count": 4,
      "metadata": {
        "id": "PTaLIW3ToL1-"
      },
      "outputs": [],
      "source": [
        "@njit()\n",
        "def _calculate_cost(chromosome, flow_matrix, distance_matrix):\n",
        "  cost = 0\n",
        "  n = chromosome.shape[0]\n",
        "  for i in range(n):\n",
        "    for j in range(n):\n",
        "      cost += distance_matrix[i][j]*flow_matrix[chromosome[i]][chromosome[j]]\n",
        "  return cost\n",
        "\n",
        "@njit()\n",
        "def _insertValues(child, parent, n, crossover_point):\n",
        "    while(child.shape[0] != n):\n",
        "      if(parent[crossover_point] not in child):\n",
        "        child = np.append(child, parent[crossover_point])\n",
        "      crossover_point = (crossover_point + 1) % n\n",
        "    return child\n",
        "\n",
        "@njit()\n",
        "def _cutAndCrossfill(father,mother,n):\n",
        "  \n",
        "  crossover_point = random.randint(0, n)\n",
        "  child1 = np.empty(n)\n",
        "  child2 = np.empty(n)\n",
        "  \n",
        "  child1 = father[:crossover_point]\n",
        "  child2 = mother[:crossover_point]\n",
        "  child1 = _insertValues(child1,mother,n,crossover_point)\n",
        "  child2 = _insertValues(child2,father,n,crossover_point)\n",
        "\n",
        "  return child1,child2"
      ]
    },
    {
      "cell_type": "code",
      "execution_count": 5,
      "metadata": {
        "id": "5VwHzCjNtnw_"
      },
      "outputs": [],
      "source": [
        "class Individual:\n",
        "\n",
        "  def __init__(self, size,chromosome):\n",
        "    self.chromosome = chromosome\n",
        "    self.size = size\n",
        "    self.cost = np.inf\n",
        "\n",
        "  def __str__(self):\n",
        "    return str(self.chromosome)\n",
        "\n",
        "  def __lt__(self,other):\n",
        "    return self.cost < other.cost\n",
        "\n",
        "  def __gt__(self,other):\n",
        "    return self.cost > other.cost\n",
        "\n",
        "  def __eq__(self,other):\n",
        "    return self.cost == other.cost\n",
        "  \n",
        "  @staticmethod\n",
        "  def generateRandom(n):\n",
        "    return Individual(n,np.random.permutation(n))\n",
        "\n",
        "  def mutation(self, mut_prob):\n",
        "    if random.random() <= mut_prob:\n",
        "      mp1 = random.randint(0, self.size - 1)\n",
        "      mp2 = random.randint(0, self.size - 1)\n",
        "      self.chromosome[mp1], self.chromosome[mp2] = self.chromosome[mp2], self.chromosome[mp1]\n",
        "\n",
        "  def cutAndCrossfill(self,parent,cro_prob):\n",
        "    \n",
        "    if(random.random() > cro_prob):\n",
        "      return Individual(self.size,self.chromosome), Individual(parent.size,parent.chromosome)\n",
        "    \n",
        "    n = self.size\n",
        "\n",
        "    child1 = Individual(n,[])\n",
        "    child2 = Individual(n,[])\n",
        "    child1.chromosome,child2.chromosome = _cutAndCrossfill(self.chromosome,parent.chromosome,n)\n",
        "\n",
        "    return (child1, child2)\n",
        "\n",
        "  def calculate_cost(self,flow_matrix,distance_matrix):  \n",
        "    self.cost = _calculate_cost(self.chromosome, flow_matrix,distance_matrix)\n"
      ]
    },
    {
      "cell_type": "code",
      "execution_count": 6,
      "metadata": {
        "id": "Hdg6-0284rrW"
      },
      "outputs": [],
      "source": [
        "def bestTwoOutOfFive(population):\n",
        "    # Select 5 individuals randomly\n",
        "    tournament = [population[random.randint(\n",
        "        0, len(population)-1)] for _ in range(len(population)//5)]\n",
        "\n",
        "    # return best 2 of five\n",
        "    return sorted(tournament)[:2]"
      ]
    },
    {
      "cell_type": "code",
      "execution_count": 7,
      "metadata": {
        "id": "ookZ03k2cj0K"
      },
      "outputs": [],
      "source": [
        "def geneticAgorithm(f, d, pop_size, cro_prob, mut_prob, gen_size, off_size):\n",
        "    \"\"\"\n",
        "\n",
        "    Genetic Algorithm for Quadratic Assignment Problem\n",
        "    __________________________________________________\n",
        "    \n",
        "    f: Flow matrix (Numpy array of n x n dimentions)\n",
        "    d: Distance matrix (Numpy array of n x n dimentions)\n",
        "    pop_size: Population size (Integer)\n",
        "    cro_prob: Crossover probability (Float [0.0,1.0))\n",
        "    mut_prob: Mutation proability (Float [0.0,1.0))\n",
        "    gen_size: Number of generations (Integer)\n",
        "    off_size: Offspring size (Integer)\n",
        "    \"\"\"\n",
        "    # Variables Initialization\n",
        "    \n",
        "    generations = 1\n",
        "    n = len(f[0])\n",
        "    offspring = []\n",
        "\n",
        "    # INITIALISE population with random candidate solutions\n",
        "    population = [Individual.generateRandom(n) for _ in range(pop_size)]\n",
        "\n",
        "    best = min(population)\n",
        "    # EVALUATE each candidate    \n",
        "    for ind in population:\n",
        "        ind.calculate_cost(f,d)\n",
        "\n",
        "    # Repeat until termination condition is satisfied\n",
        "    while(generations < gen_size + 1):\n",
        "\n",
        "        for i in range(off_size//2):\n",
        "            # PARENT SELECTION (best two out of five)\n",
        "            father, mother = bestTwoOutOfFive(population)\n",
        "\n",
        "            # CROSSOVER\n",
        "            child1, child2 = father.cutAndCrossfill(mother, cro_prob)\n",
        "\n",
        "            # MUTATION\n",
        "            child1.mutation(mut_prob)\n",
        "            child2.mutation(mut_prob)\n",
        "\n",
        "            # EVALUATION OF NEW CANDIDATES\n",
        "            child1.calculate_cost(f,d)\n",
        "            child2.calculate_cost(f,d)\n",
        "\n",
        "            offspring.append(child1)\n",
        "            offspring.append(child2)\n",
        "            \n",
        "        # SURVIVOR SELECTION\n",
        "        population = sorted(offspring)[:pop_size]\n",
        "        offspring = []\n",
        "\n",
        "        generations += 1\n",
        "\n",
        "    return population\n"
      ]
    },
    {
      "cell_type": "code",
      "execution_count": 8,
      "metadata": {
        "id": "tUx1g4dP_dHF"
      },
      "outputs": [],
      "source": [
        "def read_qap_dataset(filename):\n",
        "    def read_integers(filename):\n",
        "      with open(filename) as f:\n",
        "        return [int(elem) for elem in f.read().split()]\n",
        "\n",
        "    file_it = iter(read_integers(filename))\n",
        "    # Number of points\n",
        "    n = next(file_it)\n",
        "    # Distance between locations\n",
        "    A = [[next(file_it) for j in range(n)] for i in range(n)]\n",
        "    # Flow between factories\n",
        "    B = [[next(file_it) for j in range(n)] for i in range(n)]\n",
        "    \n",
        "    return (np.array(B), np.array(A))\n"
      ]
    },
    {
      "cell_type": "code",
      "execution_count": 16,
      "metadata": {
        "id": "JxB9QEO3oL2B"
      },
      "outputs": [],
      "source": [
        "def test(pop_size, cro_prob, mut_prob, gen_size, off_size, runs, filename):\n",
        "    runs_stats = []\n",
        "\n",
        "    f, d = read_qap_dataset(filename)\n",
        "\n",
        "    for i in range(runs):\n",
        "        print('Run number: {}'.format(i))\n",
        "        begining = time.time()\n",
        "        p = geneticAgorithm(f,d,pop_size,cro_prob,mut_prob,gen_size,off_size)\n",
        "        end = time.time()\n",
        "        total_time = end - begining\n",
        "        best = p[0]\n",
        "        worst = p[-1]\n",
        "        average_cost = np.mean([ind.cost for ind in p])\n",
        "        runs_stats.append({ 'runtime': total_time, 'best': best, 'worst': worst, 'average_cost': average_cost })\n",
        "        clear_output(wait=True)\n",
        "    \n",
        "    costs = [ stat['average_cost'] for stat in runs_stats ]\n",
        "    times = [ stat['runtime'] for stat in runs_stats ]\n",
        " \n",
        "    best_individual = min([ stat['best'] for stat in runs_stats ])\n",
        "    worst_individual = max([ stat['worst'] for stat in runs_stats ])\n",
        "\n",
        "    cost_average = np.mean(costs)\n",
        "    cost_std = np.std(costs)\n",
        "    \n",
        "    time_average = np.mean(times)\n",
        "    time_std = np.std(times)\n",
        "    \n",
        "\n",
        "    max_time = max(times)\n",
        "    min_time = min(times)\n",
        "\n",
        "    print(f'Costo promedio: {cost_average}')\n",
        "    print(f'Desviación estandar de costos: {cost_std}')\n",
        "    print(f'Mejor solución encontrada: {best_individual}: {best_individual.cost}')\n",
        "    print(f'Peor solución encontrada: {worst_individual}: {worst_individual.cost}')\n",
        "    print(f'Tiempo promedio de ejecución: {time_average}')\n",
        "    print(f'Desviación estandar tiempo de ejecución: {time_std}')\n",
        "    print(f'Valor máximo (tiempo de ejecución): {max_time}')\n",
        "    print(f'Valor mínimo (tiempo de ejecución): {min_time}')\n"
      ]
    },
    {
      "cell_type": "code",
      "execution_count": null,
      "metadata": {
        "id": "6_q5GKzooL2H"
      },
      "outputs": [],
      "source": [
        "\n",
        "POP_SIZE = 60\n",
        "CRO_PROB = 0.9\n",
        "MUT_PROB = 0.8\n",
        "GEN_SIZE = 10000\n",
        "OFF_SIZE = 120\n",
        "RUNS = 1\n",
        "FILENAME = 'lipa20a.dat'\n",
        "test(POP_SIZE,CRO_PROB,MUT_PROB,GEN_SIZE,OFF_SIZE,RUNS,FILENAME)"
      ]
    },
    {
      "cell_type": "code",
      "execution_count": null,
      "metadata": {
        "id": "T-45IK40oL2H"
      },
      "outputs": [],
      "source": [
        "POP_SIZE = 60\n",
        "CRO_PROB = 0.9\n",
        "MUT_PROB = 0.8\n",
        "GEN_SIZE = 10000\n",
        "OFF_SIZE = 120\n",
        "RUNS = 30\n",
        "FILENAME = 'kra30a.dat'\n",
        "\n",
        "test(POP_SIZE,CRO_PROB,MUT_PROB,GEN_SIZE,OFF_SIZE,RUNS,FILENAME)"
      ]
    },
    {
      "cell_type": "code",
      "execution_count": null,
      "metadata": {
        "id": "jh2kaexeoL2H"
      },
      "outputs": [],
      "source": [
        "POP_SIZE = 60\n",
        "CRO_PROB = 0.9\n",
        "MUT_PROB = 0.8\n",
        "GEN_SIZE = 10000\n",
        "OFF_SIZE = 120\n",
        "RUNS = 30\n",
        "FILENAME = 'tai35b.dat'\n",
        "\n",
        "test(POP_SIZE,CRO_PROB,MUT_PROB,GEN_SIZE,OFF_SIZE,RUNS,FILENAME)"
      ]
    },
    {
      "cell_type": "code",
      "execution_count": null,
      "metadata": {
        "id": "meHK_djHoL2G"
      },
      "outputs": [],
      "source": [
        "POP_SIZE = 60\n",
        "CRO_PROB = 0.9\n",
        "MUT_PROB = 0.8\n",
        "GEN_SIZE = 10000\n",
        "OFF_SIZE = 120\n",
        "RUNS = 30\n",
        "FILENAME = 'tho40.dat'\n",
        "\n",
        "test(POP_SIZE,CRO_PROB,MUT_PROB,GEN_SIZE,OFF_SIZE,RUNS,FILENAME)"
      ]
    }
  ],
  "metadata": {
    "colab": {
      "collapsed_sections": [],
      "name": "QAP-Morfin-Orozco.ipynb",
      "provenance": []
    },
    "kernelspec": {
      "display_name": "Python 3",
      "name": "python3"
    },
    "language_info": {
      "codemirror_mode": {
        "name": "ipython",
        "version": 3
      },
      "file_extension": ".py",
      "mimetype": "text/x-python",
      "name": "python",
      "nbconvert_exporter": "python",
      "pygments_lexer": "ipython3",
      "version": "3.10.1"
    }
  },
  "nbformat": 4,
  "nbformat_minor": 0
}