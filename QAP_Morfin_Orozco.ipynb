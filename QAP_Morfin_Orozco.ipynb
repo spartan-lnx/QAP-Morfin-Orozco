{
  "cells": [
    {
      "cell_type": "code",
      "execution_count": null,
      "metadata": {
        "id": "3MGO5BjfuaIJ"
      },
      "outputs": [],
      "source": [
        "import numpy as np\n",
        "import time\n",
        "import random"
      ]
    },
    {
      "cell_type": "code",
      "execution_count": null,
      "metadata": {
        "id": "5VwHzCjNtnw_"
      },
      "outputs": [],
      "source": [
        "class Individual:\n",
        "  \n",
        "  def __init__(self,size):\n",
        "    self.chromosome = np.random.permutation(size)\n",
        "    self.size = size\n",
        "    self.fitness = 0\n",
        "  \n",
        "  def mutation(self, mut_prob):\n",
        "    if random.random() <= mut_prob:\n",
        "      mp1 = random.randint(0, self.size - 1)\n",
        "      mp2 = random.randint(0, self.size - 1)\n",
        "      temp_gene = self.chromosome[mp1]\n",
        "      self.chromosome[mp1] = self.chromosome[mp2]\n",
        "      self.chromosome[mp2] = temp_gene\n",
        "\n",
        "  def generateRandom(self, n):\n",
        "    pass\n",
        "\n",
        "  def cutAndCrossfill(self,parent,cro_prob):\n",
        "\n",
        "    def insertValues(child, parent, n, crossover_point):\n",
        "      while(len(child.chromosome) != n):\n",
        "        if(parent.chromosome[crossover_point] not in child.chromosome):\n",
        "          child.chromosome = np.append(child.chromosome, parent.chromosome[crossover_point])\n",
        "        crossover_point = (crossover_point + 1) % n\n",
        "\n",
        "    if(random.random() > cro_prob):\n",
        "      return self, parent\n",
        "    \n",
        "    n = self.size\n",
        "    crossover_point = random.randint(0, n)\n",
        "\n",
        "    child1 = Individual(n)\n",
        "    child2 = Individual(n)\n",
        "    child1.chromosome = self.chromosome[:crossover_point]\n",
        "    child2.chromosome = parent.chromosome[:crossover_point]\n",
        "\n",
        "    insertValues(child1, parent, n, crossover_point)\n",
        "    insertValues(child2, self, n, crossover_point)\n",
        "\n",
        "    return (child1, child2)\n",
        "\n",
        "  def calculate_fitness(self,flow_matrix,distance_matrix):\n",
        "    fitness = 1000\n",
        "    for i in range(self.size):\n",
        "      for j in range(i+1,self.size):\n",
        "        fitness = fitness + distance_matrix[i][j]*flow_matrix[self.chromosome[i]][self.chromosome[i]+1]\n",
        "\n",
        "\n",
        "  def __str__(self):\n",
        "    return self.chromosome"
      ]
    },
    {
      "cell_type": "code",
      "execution_count": null,
      "metadata": {
        "id": "Hdg6-0284rrW"
      },
      "outputs": [],
      "source": [
        "def bestTwoOutOfFive(population):\n",
        "  pass\n",
        "\n",
        "def replaceWorst(population, newIndividual):\n",
        "  pass"
      ]
    },
    {
      "cell_type": "code",
      "execution_count": null,
      "metadata": {
        "id": "ookZ03k2cj0K"
      },
      "outputs": [],
      "source": [
        "def geneticAlgorithm(f, d, pop_size, cro_prob, mut_prob, ter_cond, bk_fitness):\n",
        "  # Variables Initialization\n",
        "  generations = 1\n",
        "  n = f.shape[0]\n",
        "\n",
        "  # INITIALISE population with random candidate solutions\n",
        "  population = [ Individual.generateRandom(n) for _ in range(pop_size) ]\n",
        "\n",
        "  # EVALUATE each candidate\n",
        "  map(lambda x: x.calculate_fitness(f, d), population)\n",
        "\n",
        "  # Sort candidates based on their fitness\n",
        "  population.sort(key=lambda x: x.fitness, reverse=True)\n",
        "\n",
        "  # Repeat until termination condition is satisfied\n",
        "  while( generations < ter_cond + 1 ):\n",
        "    # If optimal solution exists and it is reached\n",
        "    if( (bk_fitness is not None) and population[0].fitness == bk_fitness):\n",
        "      break\n",
        "    \n",
        "    # PARENT SELECTION (best two out of five)\n",
        "    father, mother = bestTwoOutOfFive(population)\n",
        "\n",
        "    # CROSSOVER\n",
        "    child1, child2 = father.cutAndCrossfill(mother, cro_prob)\n",
        "\n",
        "    # MUTATION\n",
        "    child1.mutation(mut_prob)\n",
        "    child2.mutation(mut_prob)\n",
        "\n",
        "    # EVALUATION OF NEW CANDIDATES\n",
        "    map(lambda x: x.calculate_fitness(f, d), [child1, child2])\n",
        "\n",
        "    # SURVIVOR SELECTION\n",
        "    replaceWorst(population, child1)\n",
        "    replaceWorst(population, child2)\n",
        "\n",
        "    generations += 1\n",
        "  \n",
        "  return (generations-1, population)\n",
        "  "
      ]
    },
    {
      "cell_type": "markdown",
      "metadata": {
        "id": "9LYA3s4FrWOr"
      },
      "source": [
        "**Recursos**\n",
        "\n",
        "**Test cases**\n",
        "https://neos-guide.org/content/quadratic-assignment-problem#:~:text=The%20quadratic%20assignment%20problem%20(QAP)%20was%20introduced%20by%20Koopmans%20and,minimize%20the%20total%20assignment%20cost\n",
        "\n",
        "**Datasets**\n",
        "http://www.mgi.polymtl.ca/anjos/qaplib/inst.html"
      ]
    },
    {
      "cell_type": "markdown",
      "metadata": {
        "id": "HwevVkCBqtsF"
      },
      "source": [
        "**Todo**\n",
        "\n",
        "**Prioridad Alta**\n",
        "*   Esqueleto Clase (Dani) ✅\n",
        "*   Esqueleto Algoritmo (Morfin) ✅\n",
        "*   Mutación (Dani) ✅\n",
        "*   Cruzamiento (Morfin)\n",
        "*   Selección de Padres (Dani) ✅\n",
        "*   Reemplazo (Morfin)\n",
        "*   Fitness (Dani) ✅\n",
        "\n",
        "**Prioridad Media**\n",
        "*   Leer el archivo (Morfin)\n",
        "*   Calcular STD, AVG, max, min (Dani)\n",
        "*   Guardar en archivo la mejor solución (Dani)\n",
        "\n",
        "**Prioridad Baja**\n",
        "*   Calibrar parámetros\n",
        "\n",
        "**Necesario**\n",
        "*   Redactar el reporte"
      ]
    },
    {
      "cell_type": "code",
      "execution_count": null,
      "metadata": {
        "id": "tUx1g4dP_dHF"
      },
      "outputs": [],
      "source": []
    }
  ],
  "metadata": {
    "colab": {
      "collapsed_sections": [],
      "name": "QAP-Morfin-Orozco.ipynb",
      "provenance": []
    },
    "kernelspec": {
      "display_name": "Python 3",
      "name": "python3"
    },
    "language_info": {
      "name": "python"
    }
  },
  "nbformat": 4,
  "nbformat_minor": 0
}
