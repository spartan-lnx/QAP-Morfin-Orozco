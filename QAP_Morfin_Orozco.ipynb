{
  "cells": [
    {
      "cell_type": "code",
      "execution_count": 67,
      "metadata": {
        "id": "3MGO5BjfuaIJ"
      },
      "outputs": [],
      "source": [
        "import numpy as np\n",
        "import time\n",
        "import random\n"
      ]
    },
    {
      "cell_type": "code",
      "execution_count": 173,
      "metadata": {
        "id": "5VwHzCjNtnw_"
      },
      "outputs": [],
      "source": [
        "class Individual:\n",
        "\n",
        "  def __init__(self, size,chromosome):\n",
        "    self.chromosome = chromosome\n",
        "    self.size = size\n",
        "    self.cost = np.inf\n",
        "\n",
        "  def mutation(self, mut_prob):\n",
        "    if random.random() <= mut_prob:\n",
        "      mp1 = random.randint(0, self.size - 1)\n",
        "      mp2 = random.randint(0, self.size - 1)\n",
        "      self.chromosome[mp1], self.chromosome[mp2] = self.chromosome[mp2], self.chromosome[mp1]\n",
        "\n",
        "  @staticmethod\n",
        "  def generateRandom(n):\n",
        "    return Individual(n,np.random.permutation(n))\n",
        "\n",
        "  def cutAndCrossfill(self,parent,cro_prob):\n",
        "\n",
        "    def insertValues(child, parent, n, crossover_point):\n",
        "      while(len(child.chromosome) != n):\n",
        "        if(parent.chromosome[crossover_point] not in child.chromosome):\n",
        "          child.chromosome = np.append(child.chromosome, parent.chromosome[crossover_point])\n",
        "        crossover_point = (crossover_point + 1) % n\n",
        "\n",
        "    if(random.random() > cro_prob):\n",
        "      return self,parent\n",
        "      #return Individual(self.size,self.chromosome), Individual(parent.size,parent.chromosome)\n",
        "    \n",
        "    n = self.size\n",
        "    crossover_point = random.randint(0, n)\n",
        "\n",
        "    child1 = Individual(n,[])\n",
        "    child2 = Individual(n,[])\n",
        "    child1.chromosome = self.chromosome[:crossover_point]\n",
        "    child2.chromosome = parent.chromosome[:crossover_point]\n",
        "\n",
        "    insertValues(child1, parent, n, crossover_point)\n",
        "    insertValues(child2, self, n, crossover_point)\n",
        "\n",
        "    return (child1, child2)\n",
        "\n",
        "  def calculate_cost(self,flow_matrix,distance_matrix):  \n",
        "    cost = 0\n",
        "    for i in range(self.size):\n",
        "      for j in range(i+1,self.size):\n",
        "        cost = cost + distance_matrix[i][j]*flow_matrix[self.chromosome[i]][self.chromosome[j]]\n",
        "    self.cost = cost\n",
        "    \n",
        "\n",
        "\n",
        "  def __str__(self):\n",
        "    return str(self.chromosome)"
      ]
    },
    {
      "cell_type": "code",
      "execution_count": 163,
      "metadata": {
        "id": "Hdg6-0284rrW"
      },
      "outputs": [],
      "source": [
        "def bestTwoOutOfFive(population):\n",
        "    # Select 5 individuals randomly\n",
        "    tournament = [population[random.randint(\n",
        "        0, len(population)-1)] for _ in range(5)]\n",
        "\n",
        "    # return best 2 of five\n",
        "    return sorted(tournament, key=lambda x: x.cost, reverse=False)[:2]\n",
        "\n",
        "\n",
        "def replaceWorst(population, newIndividual):\n",
        "  population = sorted(population,key= lambda x: x.cost,reverse=True)\n",
        "  if(newIndividual.cost < population[-1].cost):\n",
        "    population[-1] = newIndividual\n"
      ]
    },
    {
      "cell_type": "code",
      "execution_count": 164,
      "metadata": {
        "id": "ookZ03k2cj0K"
      },
      "outputs": [],
      "source": [
        "def geneticAlgorithm(f, d, pop_size, cro_prob, mut_prob, ter_cond, bk_fitness):\n",
        "    \"\"\"\n",
        "    Algoritmo genetico\n",
        "    \"\"\"\n",
        "    # Variables Initialization\n",
        "    generations = 1\n",
        "    n = len(f[0])\n",
        "    offspring = []\n",
        "    world = []\n",
        "\n",
        "    # INITIALISE population with random candidate solutions\n",
        "    population = [Individual.generateRandom(n) for _ in range(pop_size)]\n",
        "\n",
        "    # EVALUATE each candidate        \n",
        "    for ind in population:\n",
        "        ind.calculate_cost(f,d)\n",
        "\n",
        "    # Repeat until termination condition is satisfied\n",
        "    while(generations < ter_cond + 1):\n",
        "        # If optimal solution exists and it is reached\n",
        "        if((bk_fitness is not None) and population[0].cost == bk_fitness):\n",
        "            break\n",
        "\n",
        "        \n",
        "        for i in range(pop_size//2):\n",
        "\n",
        "            # PARENT SELECTION (best two out of five)\n",
        "            father, mother = bestTwoOutOfFive(population)\n",
        "\n",
        "            # CROSSOVER\n",
        "            child1, child2 = father.cutAndCrossfill(mother, cro_prob)\n",
        "\n",
        "            # MUTATION\n",
        "            child1.mutation(mut_prob)\n",
        "            child2.mutation(mut_prob)\n",
        "\n",
        "            # EVALUATION OF NEW CANDIDATES\n",
        "            child1.calculate_cost(f,d)\n",
        "            child2.calculate_cost(f,d)\n",
        "\n",
        "\n",
        "            offspring.append(child1)\n",
        "            offspring.append(child2)\n",
        "\n",
        "\n",
        "        world = population + offspring\n",
        "\n",
        "        # SURVIVOR SELECTION\n",
        "        population = sorted(world, key= lambda x: x.cost, reverse=False)[:pop_size]\n",
        "        offspring = []\n",
        "        world = []\n",
        "\n",
        "        \n",
        "        # replaceWorst(population, child1)\n",
        "        # replaceWorst(population, child2)\n",
        "\n",
        "        generations += 1\n",
        "\n",
        "    return (generations-1, population)\n"
      ]
    },
    {
      "cell_type": "code",
      "execution_count": 165,
      "metadata": {
        "id": "tUx1g4dP_dHF"
      },
      "outputs": [],
      "source": [
        "def read_qap_dataset(filename):\n",
        "    def read_integers(filename):\n",
        "        with open(filename) as f:\n",
        "            return [int(elem) for elem in f.read().split()]\n",
        "\n",
        "    file_it = iter(read_integers(filename))\n",
        "    # Number of points\n",
        "    n = next(file_it)\n",
        "    # Distance between locations\n",
        "    A = [[next(file_it) for j in range(n)] for i in range(n)]\n",
        "    # Flow between factories\n",
        "    B = [[next(file_it) for j in range(n)] for i in range(n)]\n",
        "\n",
        "    return (n, A, B)\n"
      ]
    },
    {
      "cell_type": "code",
      "execution_count": 166,
      "metadata": {},
      "outputs": [],
      "source": [
        "def test(pop_size, cro_prob, mut_prob, ter_cod, runs, filename, best_cost=None):\n",
        "    runs_stats = []\n",
        "\n",
        "    n, f, d = read_qap_dataset(filename)\n",
        "\n",
        "    for i in range(runs):\n",
        "        print('Run number: {}'.format(i))\n",
        "        begining = time.time()\n",
        "        g,p = geneticAlgorithm(f,d,pop_size,cro_prob,mut_prob,ter_cod,best_cost)\n",
        "        end = time.time()\n",
        "\n",
        "        total_time = end - begining\n",
        "        print(f'Total time: {total_time}')\n",
        "        best = p[0]\n",
        "        worst = p[-1]\n",
        "        average_cost = np.mean([ind.cost for ind in p])\n",
        "        runs_stats.append({ 'runtime': total_time, 'best': best, 'worst': worst, 'average_cost': average_cost })\n",
        "    \n",
        "    costs = [ stat['average_cost'] for stat in runs_stats ]\n",
        "    times = [ stat['runtime'] for stat in runs_stats ]\n",
        "    #bests_costs = [ stat['best'].cost for stat in runs_stats ]\n",
        "    #worsts_costs = [ stat['worst'].cost for stat in runs_stats ]\n",
        "    best_individual = min([ stat['best'] for stat in runs_stats ], key=lambda x: x.cost)\n",
        "    worst_individual = max([ stat['worst'] for stat in runs_stats ], key=lambda x: x.cost)\n",
        "    cost_average = np.mean(costs)\n",
        "    cost_std = np.std(costs)\n",
        "    time_average = np.mean(times)\n",
        "    time_std = np.std(times)\n",
        "    #max_cost = max(costs)\n",
        "    #min_cost = min(costs)\n",
        "    max_time = max(times)\n",
        "    min_time = min(times)\n",
        "    #best_of_bests = min(bests_costs)\n",
        "    #worst_of_worst = max(worsts_costs)\n",
        "\n",
        "    print(f'Costo promedio: {cost_average}')\n",
        "    print(f'Desviación estandar de costos: {cost_std}')\n",
        "    print(f'Mejor solución encontrada: {best_individual}: {best_individual.cost}')\n",
        "    print(f'Peor solución encontrada: {worst_individual}: {worst_individual.cost}')\n",
        "    print(f'Tiempo promedio de ejecución: {time_average}')\n",
        "    print(f'Desviación estandar tiempo de ejecución: {time_std}')\n",
        "    print(f'Valor máximo (tiempo de ejecución): {max_time}')\n",
        "    print(f'Valor mínimo (tiempo de ejecución): {min_time}')\n"
      ]
    },
    {
      "cell_type": "markdown",
      "metadata": {},
      "source": [
        "## Parámetros 1\n",
        "* Tamaño de población: 300\n",
        "* Número máximo de generaciones: 50,000\n",
        "* Probabilidad de cruzamiento: 0.9\n",
        "* Probabilidad de mutación: 0.2\n",
        "* Número de corridas: 30\n",
        "* Dataset: lipa20a"
      ]
    },
    {
      "cell_type": "code",
      "execution_count": 92,
      "metadata": {},
      "outputs": [
        {
          "name": "stdout",
          "output_type": "stream",
          "text": [
            "1000\n",
            "[ 1 16 13 19  8 17  5  9 12 18  6 11  4  0 14  2 10  3 15  7] 1916\n",
            "[ 1  2 13 19  7 17  5  9 12 11  6 10 14  0 18 16 15  3  4  8] 1916\n"
          ]
        }
      ],
      "source": [
        "POP_SIZE = 300\n",
        "CRO_PROB = 0.9\n",
        "MUT_PROB = 0.8\n",
        "TER_COND = 1000\n",
        "RUNS = 1    \n",
        "FILENAME = 'lipa20a.dat'\n",
        "\n",
        "#test(POP_SIZE,CRO_PROB,MUT_PROB,TER_COND,RUNS,FILENAME,best_cost=1160)\n",
        "n, d, f = read_qap_dataset(FILENAME)\n",
        "g,p = geneticAlgorithm(f,d,POP_SIZE,CRO_PROB,MUT_PROB,TER_COND,bk_fitness=None)\n",
        "\n",
        "print(g)\n",
        "print(p[0],p[0].cost)\n",
        "print(p[-1],p[-1].cost)\n",
        "\n",
        "#test(POP_SIZE,CRO_PROB,MUT_PROB,TER_COND,RUNS,FILENAME,best_cost=3683)"
      ]
    },
    {
      "cell_type": "code",
      "execution_count": 182,
      "metadata": {},
      "outputs": [
        {
          "name": "stdout",
          "output_type": "stream",
          "text": [
            "[5 2 6 0 8 7 1 3 4]\n",
            "[5 2 6 0 8 1 7 3 4]\n"
          ]
        }
      ],
      "source": [
        "#asd = [3,4,1,2]\n",
        "# asd = [3,1,9,8,7,4,5,6,2]\n",
        "# FILENAME = 'dataset.dat'\n",
        "# indiv = Individual(9,[i-1 for i in asd])\n",
        "# n, d, f = read_qap_dataset(FILENAME)\n",
        "\n",
        "# indiv.calculate_cost(d,f)\n",
        "\n",
        "# print(indiv.cost)\n",
        "\n",
        "p1 = Individual.generateRandom(9)\n",
        "p2 = Individual.generateRandom(9)\n",
        "\n",
        "\n",
        "\n",
        "\n",
        "\n"
      ]
    },
    {
      "cell_type": "markdown",
      "metadata": {
        "id": "9LYA3s4FrWOr"
      },
      "source": [
        "**Recursos**\n",
        "\n",
        "**Test cases**\n",
        "https://neos-guide.org/content/quadratic-assignment-problem#:~:text=The%20quadratic%20assignment%20problem%20(QAP)%20was%20introduced%20by%20Koopmans%20and,minimize%20the%20total%20assignment%20cost\n",
        "\n",
        "**Datasets**\n",
        "http://www.mgi.polymtl.ca/anjos/qaplib/inst.html"
      ]
    },
    {
      "cell_type": "markdown",
      "metadata": {
        "id": "HwevVkCBqtsF"
      },
      "source": [
        "**Todo**\n",
        "\n",
        "**Prioridad Alta**\n",
        "*   Esqueleto Clase (Dani) ✅✅\n",
        "*   Esqueleto Algoritmo (Morfin) ✅✅\n",
        "*   Mutación (Dani) ✅✅\n",
        "*   Cruzamiento (Morfin) ✅✅\n",
        "*   Selección de Padres (Dani) ✅✅\n",
        "*   Reemplazo (Morfin) ✅✅\n",
        "*   Fitness (Dani) ✅\n",
        "\n",
        "**Prioridad Media**\n",
        "*   Leer el archivo (Ambos) ✅✅\n",
        "*   Calcular STD, AVG, max, min (Dani)✅\n",
        "*   Guardar en archivo la mejor solución (Dani)\n",
        "\n",
        "**Prioridad Baja**\n",
        "*   Calibrar parámetros\n",
        "\n",
        "**Necesario**\n",
        "*   Redactar el reporte"
      ]
    },
    {
      "cell_type": "code",
      "execution_count": 4,
      "metadata": {},
      "outputs": [
        {
          "data": {
            "text/plain": [
              "20"
            ]
          },
          "execution_count": 4,
          "metadata": {},
          "output_type": "execute_result"
        }
      ],
      "source": [
        "n"
      ]
    },
    {
      "cell_type": "code",
      "execution_count": null,
      "metadata": {},
      "outputs": [],
      "source": []
    }
  ],
  "metadata": {
    "colab": {
      "collapsed_sections": [],
      "name": "QAP-Morfin-Orozco.ipynb",
      "provenance": []
    },
    "kernelspec": {
      "display_name": "Python 3",
      "name": "python3"
    },
    "language_info": {
      "codemirror_mode": {
        "name": "ipython",
        "version": 3
      },
      "file_extension": ".py",
      "mimetype": "text/x-python",
      "name": "python",
      "nbconvert_exporter": "python",
      "pygments_lexer": "ipython3",
      "version": "3.10.1"
    }
  },
  "nbformat": 4,
  "nbformat_minor": 0
}
