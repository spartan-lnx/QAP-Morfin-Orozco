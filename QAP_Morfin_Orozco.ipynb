{
  "cells": [
    {
      "cell_type": "code",
      "execution_count": 46,
      "metadata": {
        "id": "3MGO5BjfuaIJ"
      },
      "outputs": [],
      "source": [
        "import numpy as np\n",
        "import time\n",
        "import random"
      ]
    },
    {
      "cell_type": "code",
      "execution_count": 53,
      "metadata": {
        "id": "5VwHzCjNtnw_"
      },
      "outputs": [],
      "source": [
        "class Individual:\n",
        "  \n",
        "  def __init__(self,size,best_known_fitness):\n",
        "    self.chromosome = np.random.permutation(size)\n",
        "    self.size = size\n",
        "    self.fitness = 0\n",
        "    self.best_known_fitness = best_known_fitness\n",
        "  \n",
        "  def mutation(self, mut_prob):\n",
        "    if random.random() <= mut_prob:\n",
        "      mp1 = random.randint(0, self.size - 1)\n",
        "      mp2 = random.randint(0, self.size - 1)\n",
        "      self.chromosome[mp1], self.chromosome[mp2] = self.chromosome[mp2], self.chromosome[mp1]\n",
        "\n",
        "  def generateRandom(self, n):\n",
        "    pass\n",
        "\n",
        "  def crossover(self,parent):\n",
        "    pass\n",
        "\n",
        "  def calculate_fitness(self,flow_matrix,distance_matrix):\n",
        "    \n",
        "    cost = 0\n",
        "    for i in range(self.size):\n",
        "      for j in range(i+1,self.size):\n",
        "        cost = cost + distance_matrix[i][j]*flow_matrix[self.chromosome[i]][self.chromosome[j]]\n",
        "    \n",
        "    # Since we want to minimize cost, the fitness property must be defined as the inverse of cost\n",
        "    self.fitness = 1/(1+cost)\n",
        "    \n",
        "\n",
        "\n",
        "  def __str__(self):\n",
        "    return str(self.chromosome)"
      ]
    },
    {
      "cell_type": "code",
      "execution_count": 47,
      "metadata": {
        "id": "Hdg6-0284rrW"
      },
      "outputs": [],
      "source": [
        "def bestTwoOutOfFive(population):\n",
        "  # Select 5 individuals randomly\n",
        "  tournament = [population[random.randint(0,len(population)-1)] for _ in range(5)]\n",
        "  \n",
        "  # return best 2 of five\n",
        "  return sorted(tournament, key=lambda x: x.fitness, reverse=True)[:2]\n",
        "\n",
        "def cutAndCrossfill(father, mother, cro_prob):\n",
        "  pass\n",
        "\n",
        "def replaceWorst(population, newIndividual):\n",
        "  pass"
      ]
    },
    {
      "cell_type": "code",
      "execution_count": null,
      "metadata": {
        "id": "ookZ03k2cj0K"
      },
      "outputs": [],
      "source": [
        "def geneticAlgorithm(pop_size, cro_prob, mut_prob, ter_cond):\n",
        "  # Variables Initialization\n",
        "  generation = 1\n",
        "\n",
        "  # INITIALISE population with random candidate solutions\n",
        "  population = [ Individual(n) for _in range(pop_size) ]\n",
        "\n",
        "  # Sort candidates based on their fitness\n",
        "  population.sort(key=lambda x: x.fitness, reverse=True)\n",
        "\n",
        "  # Repeat until termination condition is satisfied\n",
        "  while( generation < ter_cond + 1 ):\n",
        "    \n",
        "    # PARENT SELECTION (best two out of five)\n",
        "    father, mother = bestTwoOutOfFive(population)\n",
        "\n",
        "    # CROSSOVER\n",
        "    child1, child2 = cutAndCrossfill(father, mother, cro_prob)\n",
        "\n",
        "    # MUTATION\n",
        "    child1.mutation(mut_prob)\n",
        "    child2.mutation(mut_prob)\n",
        "\n",
        "    # SURVIVOR SELECTION\n",
        "    replaceWorst(population, child1)\n",
        "    replaceWorst(population, child2)\n",
        "\n",
        "    generation += 1\n",
        "  \n",
        "  return (generations-1, population)\n",
        "  "
      ]
    },
    {
      "cell_type": "markdown",
      "metadata": {
        "id": "9LYA3s4FrWOr"
      },
      "source": [
        "**Recursos**\n",
        "\n",
        "**Test cases**\n",
        "https://neos-guide.org/content/quadratic-assignment-problem#:~:text=The%20quadratic%20assignment%20problem%20(QAP)%20was%20introduced%20by%20Koopmans%20and,minimize%20the%20total%20assignment%20cost\n",
        "\n",
        "**Datasets**\n",
        "http://www.mgi.polymtl.ca/anjos/qaplib/inst.html"
      ]
    },
    {
      "cell_type": "markdown",
      "metadata": {
        "id": "HwevVkCBqtsF"
      },
      "source": [
        "**Todo**\n",
        "\n",
        "**Prioridad Alta**\n",
        "*   Esqueleto Clase (Dani) ✅\n",
        "*   Esqueleto Algoritmo (Morfin) ✅\n",
        "*   Mutación (Dani) ✅\n",
        "*   Cruzamiento (Morfin)\n",
        "*   Selección de Padres (Dani) ✅\n",
        "*   Reemplazo (Morfin)\n",
        "*   Fitness (Dani) ✅\n",
        "\n",
        "**Prioridad Media**\n",
        "*   Leer el archivo (Morfin)\n",
        "*   Calcular STD, AVG, max, min (Dani)\n",
        "*   Guardar en archivo la mejor solución (Dani)\n",
        "\n",
        "**Prioridad Baja**\n",
        "*   Calibrar parámetros\n",
        "\n",
        "**Necesario**\n",
        "*   Redactar el reporte"
      ]
    },
    {
      "cell_type": "code",
      "execution_count": null,
      "metadata": {
        "id": "tUx1g4dP_dHF"
      },
      "outputs": [],
      "source": []
    }
  ],
  "metadata": {
    "colab": {
      "collapsed_sections": [],
      "name": "QAP-Morfin-Orozco.ipynb",
      "provenance": []
    },
    "kernelspec": {
      "display_name": "Python 3",
      "name": "python3"
    },
    "language_info": {
      "codemirror_mode": {
        "name": "ipython",
        "version": 3
      },
      "file_extension": ".py",
      "mimetype": "text/x-python",
      "name": "python",
      "nbconvert_exporter": "python",
      "pygments_lexer": "ipython3",
      "version": "3.10.1"
    }
  },
  "nbformat": 4,
  "nbformat_minor": 0
}
