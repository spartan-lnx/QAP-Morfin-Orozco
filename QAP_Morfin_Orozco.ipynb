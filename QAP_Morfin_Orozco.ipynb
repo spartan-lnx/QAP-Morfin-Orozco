{
  "cells": [
    {
      "cell_type": "code",
      "execution_count": 53,
      "metadata": {
        "id": "3MGO5BjfuaIJ"
      },
      "outputs": [],
      "source": [
        "import numpy as np\n",
        "import time\n",
        "import random\n",
        "from numba import njit\n"
      ]
    },
    {
      "cell_type": "code",
      "execution_count": 54,
      "metadata": {},
      "outputs": [],
      "source": [
        "@njit()\n",
        "def _calculate_cost(chromosome, flow_matrix, distance_matrix):\n",
        "  cost = 0\n",
        "  n = chromosome.shape[0]\n",
        "  for i in range(n):\n",
        "    for j in range(n):\n",
        "      cost += distance_matrix[i][j]*flow_matrix[chromosome[i]][chromosome[j]]\n",
        "  return cost"
      ]
    },
    {
      "cell_type": "code",
      "execution_count": 55,
      "metadata": {
        "id": "5VwHzCjNtnw_"
      },
      "outputs": [],
      "source": [
        "class Individual:\n",
        "\n",
        "  def __init__(self, size,chromosome):\n",
        "    self.chromosome = chromosome\n",
        "    self.size = size\n",
        "    self.cost = np.inf\n",
        "\n",
        "  def mutation(self, mut_prob):\n",
        "    if random.random() <= mut_prob:\n",
        "      mp1 = random.randint(0, self.size - 1)\n",
        "      mp2 = random.randint(0, self.size - 1)\n",
        "      self.chromosome[mp1], self.chromosome[mp2] = self.chromosome[mp2], self.chromosome[mp1]\n",
        "\n",
        "  @staticmethod\n",
        "  def generateRandom(n):\n",
        "    return Individual(n,np.random.permutation(n))\n",
        "\n",
        "  def cutAndCrossfill(self,parent,cro_prob):\n",
        "\n",
        "    def insertValues(child, parent, n, crossover_point):\n",
        "      while(len(child.chromosome) != n):\n",
        "        if(parent.chromosome[crossover_point] not in child.chromosome):\n",
        "          child.chromosome = np.append(child.chromosome, parent.chromosome[crossover_point])\n",
        "        crossover_point = (crossover_point + 1) % n\n",
        "\n",
        "    if(random.random() > cro_prob):\n",
        "      return Individual(self.size,self.chromosome), Individual(parent.size,parent.chromosome)\n",
        "    \n",
        "    n = self.size\n",
        "    crossover_point = random.randint(0, n)\n",
        "\n",
        "    child1 = Individual(n,[])\n",
        "    child2 = Individual(n,[])\n",
        "    child1.chromosome = self.chromosome[:crossover_point]\n",
        "    child2.chromosome = parent.chromosome[:crossover_point]\n",
        "\n",
        "    insertValues(child1, parent, n, crossover_point)\n",
        "    insertValues(child2, self, n, crossover_point)\n",
        "\n",
        "    return (child1, child2)\n",
        "\n",
        "  def calculate_cost(self,flow_matrix,distance_matrix):  \n",
        "    self.cost = _calculate_cost(self.chromosome, flow_matrix,distance_matrix)\n",
        "    \n",
        "  def __str__(self):\n",
        "    return str(self.chromosome)\n",
        "\n",
        "  def __lt__(self,other):\n",
        "    return self.cost < other.cost\n",
        "\n",
        "  def __gt__(self,other):\n",
        "    return self.cost > other.cost\n",
        "\n",
        "  def __eq__(self,other):\n",
        "    return self.cost == other.cost\n"
      ]
    },
    {
      "cell_type": "code",
      "execution_count": 56,
      "metadata": {
        "id": "Hdg6-0284rrW"
      },
      "outputs": [],
      "source": [
        "def bestTwoOutOfFive(population):\n",
        "    # Select 5 individuals randomly\n",
        "    tournament = [population[random.randint(\n",
        "        0, len(population)-1)] for _ in range(len(population)//5)]\n",
        "\n",
        "    # return best 2 of five\n",
        "    return sorted(tournament)[:2]\n",
        "\n",
        "\n",
        "def replaceWorst(population, newIndividual):\n",
        "  population = sorted(population)\n",
        "  if(newIndividual.cost < population[-1].cost):\n",
        "    population[-1] = newIndividual\n"
      ]
    },
    {
      "cell_type": "code",
      "execution_count": 57,
      "metadata": {
        "id": "ookZ03k2cj0K"
      },
      "outputs": [],
      "source": [
        "def geneticAgorithm(f, d, pop_size, cro_prob, mut_prob, ter_cond, bk_fitness):\n",
        "    \"\"\"\n",
        "    Genetic Algori\n",
        "    \"\"\"\n",
        "    # Variables Initialization\n",
        "    \n",
        "    generations = 1\n",
        "    n = len(f[0])\n",
        "    offspring = []\n",
        "\n",
        "    # INITIALISE population with random candidate solutions\n",
        "    population = [Individual.generateRandom(n) for _ in range(pop_size)]\n",
        "\n",
        "    # EVALUATE each candidate    \n",
        "    for ind in population:\n",
        "        ind.calculate_cost(f,d)\n",
        "\n",
        "    # Repeat until termination condition is satisfied\n",
        "    while(generations < ter_cond + 1):\n",
        "        # If optimal solution exists and it is reached\n",
        "        if((bk_fitness is not None) and population[0].cost == bk_fitness):\n",
        "            break\n",
        "\n",
        "        \n",
        "        for i in range(pop_size):\n",
        "\n",
        "            # PARENT SELECTION (best two out of five)\n",
        "            father, mother = bestTwoOutOfFive(population)\n",
        "\n",
        "            # CROSSOVER\n",
        "            child1, child2 = father.cutAndCrossfill(mother, cro_prob)\n",
        "\n",
        "            # MUTATION\n",
        "            child1.mutation(mut_prob)\n",
        "            child2.mutation(mut_prob)\n",
        "\n",
        "            # EVALUATION OF NEW CANDIDATES\n",
        "            child1.calculate_cost(f,d)\n",
        "            child2.calculate_cost(f,d)\n",
        "\n",
        "\n",
        "            offspring.append(child1)\n",
        "            offspring.append(child2)\n",
        "\n",
        "        # SURVIVOR SELECTION\n",
        "        population = sorted(offspring)[:pop_size]\n",
        "        offspring = []\n",
        "\n",
        "        generations += 1\n",
        "\n",
        "    return population\n"
      ]
    },
    {
      "cell_type": "code",
      "execution_count": 58,
      "metadata": {
        "id": "tUx1g4dP_dHF"
      },
      "outputs": [],
      "source": [
        "def read_qap_dataset(filename):\n",
        "    def read_integers(filename):\n",
        "        with open(filename) as f:\n",
        "            return [int(elem) for elem in f.read().split()]\n",
        "\n",
        "    file_it = iter(read_integers(filename))\n",
        "    # Number of points\n",
        "    n = next(file_it)\n",
        "    # Distance between locations\n",
        "    A = [[next(file_it) for j in range(n)] for i in range(n)]\n",
        "    # Flow between factories\n",
        "    B = [[next(file_it) for j in range(n)] for i in range(n)]\n",
        "    \n",
        "    return (np.array(B), np.array(A))\n"
      ]
    },
    {
      "cell_type": "code",
      "execution_count": 59,
      "metadata": {},
      "outputs": [],
      "source": [
        "def test(pop_size, cro_prob, mut_prob, ter_cod, runs, filename, best_cost=None):\n",
        "    runs_stats = []\n",
        "\n",
        "    f, d = read_qap_dataset(filename)\n",
        "\n",
        "    for i in range(runs):\n",
        "        print('Run number: {}'.format(i))\n",
        "        begining = time.time()\n",
        "        p = geneticAgorithm(f,d,pop_size,cro_prob,mut_prob,ter_cod,best_cost)\n",
        "        end = time.time()\n",
        "\n",
        "        total_time = end - begining\n",
        "        print(f'Total time: {total_time}')\n",
        "        best = p[0]\n",
        "        worst = p[-1]\n",
        "        average_cost = np.mean([ind.cost for ind in p])\n",
        "        runs_stats.append({ 'runtime': total_time, 'best': best, 'worst': worst, 'average_cost': average_cost })\n",
        "    \n",
        "    costs = [ stat['average_cost'] for stat in runs_stats ]\n",
        "    times = [ stat['runtime'] for stat in runs_stats ]\n",
        " \n",
        "    best_individual = min([ stat['best'] for stat in runs_stats ])\n",
        "    worst_individual = max([ stat['worst'] for stat in runs_stats ])\n",
        "\n",
        "    cost_average = np.mean(costs)\n",
        "    cost_std = np.std(costs)\n",
        "    \n",
        "    time_average = np.mean(times)\n",
        "    time_std = np.std(times)\n",
        "    \n",
        "\n",
        "    max_time = max(times)\n",
        "    min_time = min(times)\n",
        "\n",
        "    print(f'Costo promedio: {cost_average}')\n",
        "    print(f'Desviación estandar de costos: {cost_std}')\n",
        "    print(f'Mejor solución encontrada: {best_individual}: {best_individual.cost}')\n",
        "    print(f'Peor solución encontrada: {worst_individual}: {worst_individual.cost}')\n",
        "    print(f'Tiempo promedio de ejecución: {time_average}')\n",
        "    print(f'Desviación estandar tiempo de ejecución: {time_std}')\n",
        "    print(f'Valor máximo (tiempo de ejecución): {max_time}')\n",
        "    print(f'Valor mínimo (tiempo de ejecución): {min_time}')\n"
      ]
    },
    {
      "cell_type": "markdown",
      "metadata": {},
      "source": [
        "## Parámetros 1\n",
        "* Tamaño de población: 300\n",
        "* Número máximo de generaciones: 50,000\n",
        "* Probabilidad de cruzamiento: 0.9\n",
        "* Probabilidad de mutación: 0.2\n",
        "* Número de corridas: 30\n",
        "* Dataset: lipa20a"
      ]
    },
    {
      "cell_type": "code",
      "execution_count": 60,
      "metadata": {},
      "outputs": [
        {
          "name": "stdout",
          "output_type": "stream",
          "text": [
            "Run number: 0\n",
            "Total time: 15.689120292663574\n",
            "Run number: 1\n"
          ]
        },
        {
          "ename": "KeyboardInterrupt",
          "evalue": "",
          "output_type": "error",
          "traceback": [
            "\u001b[1;31m---------------------------------------------------------------------------\u001b[0m",
            "\u001b[1;31mKeyboardInterrupt\u001b[0m                         Traceback (most recent call last)",
            "Input \u001b[1;32mIn [60]\u001b[0m, in \u001b[0;36m<module>\u001b[1;34m\u001b[0m\n\u001b[0;32m      5\u001b[0m RUNS \u001b[38;5;241m=\u001b[39m \u001b[38;5;241m10\u001b[39m\n\u001b[0;32m      6\u001b[0m FILENAME \u001b[38;5;241m=\u001b[39m \u001b[38;5;124m'\u001b[39m\u001b[38;5;124mtho40.dat\u001b[39m\u001b[38;5;124m'\u001b[39m\n\u001b[1;32m----> 8\u001b[0m \u001b[43mtest\u001b[49m\u001b[43m(\u001b[49m\u001b[43mPOP_SIZE\u001b[49m\u001b[43m,\u001b[49m\u001b[43mCRO_PROB\u001b[49m\u001b[43m,\u001b[49m\u001b[43mMUT_PROB\u001b[49m\u001b[43m,\u001b[49m\u001b[43mTER_COND\u001b[49m\u001b[43m,\u001b[49m\u001b[43mRUNS\u001b[49m\u001b[43m,\u001b[49m\u001b[43mFILENAME\u001b[49m\u001b[43m,\u001b[49m\u001b[43mbest_cost\u001b[49m\u001b[38;5;241;43m=\u001b[39;49m\u001b[38;5;241;43m1\u001b[39;49m\u001b[43m)\u001b[49m\n",
            "Input \u001b[1;32mIn [59]\u001b[0m, in \u001b[0;36mtest\u001b[1;34m(pop_size, cro_prob, mut_prob, ter_cod, runs, filename, best_cost)\u001b[0m\n\u001b[0;32m      7\u001b[0m \u001b[38;5;28mprint\u001b[39m(\u001b[38;5;124m'\u001b[39m\u001b[38;5;124mRun number: \u001b[39m\u001b[38;5;132;01m{}\u001b[39;00m\u001b[38;5;124m'\u001b[39m\u001b[38;5;241m.\u001b[39mformat(i))\n\u001b[0;32m      8\u001b[0m begining \u001b[38;5;241m=\u001b[39m time\u001b[38;5;241m.\u001b[39mtime()\n\u001b[1;32m----> 9\u001b[0m p \u001b[38;5;241m=\u001b[39m \u001b[43mgeneticAgorithm\u001b[49m\u001b[43m(\u001b[49m\u001b[43mf\u001b[49m\u001b[43m,\u001b[49m\u001b[43md\u001b[49m\u001b[43m,\u001b[49m\u001b[43mpop_size\u001b[49m\u001b[43m,\u001b[49m\u001b[43mcro_prob\u001b[49m\u001b[43m,\u001b[49m\u001b[43mmut_prob\u001b[49m\u001b[43m,\u001b[49m\u001b[43mter_cod\u001b[49m\u001b[43m,\u001b[49m\u001b[43mbest_cost\u001b[49m\u001b[43m)\u001b[49m\n\u001b[0;32m     10\u001b[0m end \u001b[38;5;241m=\u001b[39m time\u001b[38;5;241m.\u001b[39mtime()\n\u001b[0;32m     12\u001b[0m total_time \u001b[38;5;241m=\u001b[39m end \u001b[38;5;241m-\u001b[39m begining\n",
            "Input \u001b[1;32mIn [57]\u001b[0m, in \u001b[0;36mgeneticAgorithm\u001b[1;34m(f, d, pop_size, cro_prob, mut_prob, ter_cond, bk_fitness)\u001b[0m\n\u001b[0;32m     28\u001b[0m father, mother \u001b[38;5;241m=\u001b[39m bestTwoOutOfFive(population)\n\u001b[0;32m     30\u001b[0m \u001b[38;5;66;03m# CROSSOVER\u001b[39;00m\n\u001b[1;32m---> 31\u001b[0m child1, child2 \u001b[38;5;241m=\u001b[39m \u001b[43mfather\u001b[49m\u001b[38;5;241;43m.\u001b[39;49m\u001b[43mcutAndCrossfill\u001b[49m\u001b[43m(\u001b[49m\u001b[43mmother\u001b[49m\u001b[43m,\u001b[49m\u001b[43m \u001b[49m\u001b[43mcro_prob\u001b[49m\u001b[43m)\u001b[49m\n\u001b[0;32m     33\u001b[0m \u001b[38;5;66;03m# MUTATION\u001b[39;00m\n\u001b[0;32m     34\u001b[0m child1\u001b[38;5;241m.\u001b[39mmutation(mut_prob)\n",
            "Input \u001b[1;32mIn [55]\u001b[0m, in \u001b[0;36mIndividual.cutAndCrossfill\u001b[1;34m(self, parent, cro_prob)\u001b[0m\n\u001b[0;32m     35\u001b[0m child2\u001b[38;5;241m.\u001b[39mchromosome \u001b[38;5;241m=\u001b[39m parent\u001b[38;5;241m.\u001b[39mchromosome[:crossover_point]\n\u001b[0;32m     37\u001b[0m insertValues(child1, parent, n, crossover_point)\n\u001b[1;32m---> 38\u001b[0m \u001b[43minsertValues\u001b[49m\u001b[43m(\u001b[49m\u001b[43mchild2\u001b[49m\u001b[43m,\u001b[49m\u001b[43m \u001b[49m\u001b[38;5;28;43mself\u001b[39;49m\u001b[43m,\u001b[49m\u001b[43m \u001b[49m\u001b[43mn\u001b[49m\u001b[43m,\u001b[49m\u001b[43m \u001b[49m\u001b[43mcrossover_point\u001b[49m\u001b[43m)\u001b[49m\n\u001b[0;32m     40\u001b[0m \u001b[38;5;28;01mreturn\u001b[39;00m (child1, child2)\n",
            "Input \u001b[1;32mIn [55]\u001b[0m, in \u001b[0;36mIndividual.cutAndCrossfill.<locals>.insertValues\u001b[1;34m(child, parent, n, crossover_point)\u001b[0m\n\u001b[0;32m     21\u001b[0m \u001b[38;5;28;01mwhile\u001b[39;00m(\u001b[38;5;28mlen\u001b[39m(child\u001b[38;5;241m.\u001b[39mchromosome) \u001b[38;5;241m!=\u001b[39m n):\n\u001b[0;32m     22\u001b[0m   \u001b[38;5;28;01mif\u001b[39;00m(parent\u001b[38;5;241m.\u001b[39mchromosome[crossover_point] \u001b[38;5;129;01mnot\u001b[39;00m \u001b[38;5;129;01min\u001b[39;00m child\u001b[38;5;241m.\u001b[39mchromosome):\n\u001b[1;32m---> 23\u001b[0m     child\u001b[38;5;241m.\u001b[39mchromosome \u001b[38;5;241m=\u001b[39m \u001b[43mnp\u001b[49m\u001b[38;5;241;43m.\u001b[39;49m\u001b[43mappend\u001b[49m\u001b[43m(\u001b[49m\u001b[43mchild\u001b[49m\u001b[38;5;241;43m.\u001b[39;49m\u001b[43mchromosome\u001b[49m\u001b[43m,\u001b[49m\u001b[43m \u001b[49m\u001b[43mparent\u001b[49m\u001b[38;5;241;43m.\u001b[39;49m\u001b[43mchromosome\u001b[49m\u001b[43m[\u001b[49m\u001b[43mcrossover_point\u001b[49m\u001b[43m]\u001b[49m\u001b[43m)\u001b[49m\n\u001b[0;32m     24\u001b[0m   crossover_point \u001b[38;5;241m=\u001b[39m (crossover_point \u001b[38;5;241m+\u001b[39m \u001b[38;5;241m1\u001b[39m) \u001b[38;5;241m%\u001b[39m n\n",
            "File \u001b[1;32m<__array_function__ internals>:5\u001b[0m, in \u001b[0;36mappend\u001b[1;34m(*args, **kwargs)\u001b[0m\n",
            "File \u001b[1;32m~\\AppData\\Local\\Programs\\Python\\Python310\\lib\\site-packages\\numpy\\lib\\function_base.py:4817\u001b[0m, in \u001b[0;36mappend\u001b[1;34m(arr, values, axis)\u001b[0m\n\u001b[0;32m   4815\u001b[0m     values \u001b[38;5;241m=\u001b[39m ravel(values)\n\u001b[0;32m   4816\u001b[0m     axis \u001b[38;5;241m=\u001b[39m arr\u001b[38;5;241m.\u001b[39mndim\u001b[38;5;241m-\u001b[39m\u001b[38;5;241m1\u001b[39m\n\u001b[1;32m-> 4817\u001b[0m \u001b[38;5;28;01mreturn\u001b[39;00m \u001b[43mconcatenate\u001b[49m\u001b[43m(\u001b[49m\u001b[43m(\u001b[49m\u001b[43marr\u001b[49m\u001b[43m,\u001b[49m\u001b[43m \u001b[49m\u001b[43mvalues\u001b[49m\u001b[43m)\u001b[49m\u001b[43m,\u001b[49m\u001b[43m \u001b[49m\u001b[43maxis\u001b[49m\u001b[38;5;241;43m=\u001b[39;49m\u001b[43maxis\u001b[49m\u001b[43m)\u001b[49m\n",
            "File \u001b[1;32m<__array_function__ internals>:5\u001b[0m, in \u001b[0;36mconcatenate\u001b[1;34m(*args, **kwargs)\u001b[0m\n",
            "\u001b[1;31mKeyboardInterrupt\u001b[0m: "
          ]
        }
      ],
      "source": [
        "POP_SIZE = 60\n",
        "CRO_PROB = 0.9\n",
        "MUT_PROB = 0.8\n",
        "TER_COND = 1000\n",
        "RUNS = 10\n",
        "FILENAME = 'tho40.dat'\n",
        "\n",
        "test(POP_SIZE,CRO_PROB,MUT_PROB,TER_COND,RUNS,FILENAME,best_cost=1)"
      ]
    },
    {
      "cell_type": "markdown",
      "metadata": {
        "id": "9LYA3s4FrWOr"
      },
      "source": [
        "**Recursos**\n",
        "\n",
        "**Test cases**\n",
        "https://neos-guide.org/content/quadratic-assignment-problem#:~:text=The%20quadratic%20assignment%20problem%20(QAP)%20was%20introduced%20by%20Koopmans%20and,minimize%20the%20total%20assignment%20cost\n",
        "\n",
        "**Datasets**\n",
        "http://www.mgi.polymtl.ca/anjos/qaplib/inst.html"
      ]
    },
    {
      "cell_type": "markdown",
      "metadata": {
        "id": "HwevVkCBqtsF"
      },
      "source": [
        "**Todo**\n",
        "\n",
        "**Prioridad Alta**\n",
        "*   Esqueleto Clase (Dani) ✅✅\n",
        "*   Esqueleto Algoritmo (Morfin) ✅✅\n",
        "*   Mutación (Dani) ✅✅\n",
        "*   Cruzamiento (Morfin) ✅✅\n",
        "*   Selección de Padres (Dani) ✅✅\n",
        "*   Reemplazo (Morfin) ✅✅\n",
        "*   Fitness (Dani) ✅\n",
        "\n",
        "**Prioridad Media**\n",
        "*   Leer el archivo (Ambos) ✅✅\n",
        "*   Calcular STD, AVG, max, min (Dani)✅\n",
        "*   Guardar en archivo la mejor solución (Dani)\n",
        "\n",
        "**Prioridad Baja**\n",
        "*   Calibrar parámetros\n",
        "\n",
        "**Necesario**\n",
        "*   Redactar el reporte"
      ]
    }
  ],
  "metadata": {
    "colab": {
      "collapsed_sections": [],
      "name": "QAP-Morfin-Orozco.ipynb",
      "provenance": []
    },
    "kernelspec": {
      "display_name": "Python 3",
      "name": "python3"
    },
    "language_info": {
      "codemirror_mode": {
        "name": "ipython",
        "version": 3
      },
      "file_extension": ".py",
      "mimetype": "text/x-python",
      "name": "python",
      "nbconvert_exporter": "python",
      "pygments_lexer": "ipython3",
      "version": "3.10.1"
    }
  },
  "nbformat": 4,
  "nbformat_minor": 0
}
