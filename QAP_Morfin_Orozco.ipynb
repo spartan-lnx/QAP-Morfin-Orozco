{
  "cells": [
    {
      "cell_type": "code",
      "execution_count": 17,
      "metadata": {
        "id": "3MGO5BjfuaIJ"
      },
      "outputs": [],
      "source": [
        "import numpy as np\n",
        "import time\n",
        "import random\n"
      ]
    },
    {
      "cell_type": "code",
      "execution_count": 18,
      "metadata": {
        "id": "5VwHzCjNtnw_"
      },
      "outputs": [],
      "source": [
        "class Individual:\n",
        "\n",
        "  def __init__(self, size,chromosome):\n",
        "    self.chromosome = chromosome\n",
        "    self.size = size\n",
        "    self.cost = np.inf\n",
        "\n",
        "  def mutation(self, mut_prob):\n",
        "    if random.random() <= mut_prob:\n",
        "      mp1 = random.randint(0, self.size - 1)\n",
        "      mp2 = random.randint(0, self.size - 1)\n",
        "      self.chromosome[mp1], self.chromosome[mp2] = self.chromosome[mp2], self.chromosome[mp1]\n",
        "\n",
        "  @staticmethod\n",
        "  def generateRandom(n):\n",
        "    return Individual(n,np.random.permutation(n))\n",
        "\n",
        "  def cutAndCrossfill(self,parent,cro_prob):\n",
        "\n",
        "    def insertValues(child, parent, n, crossover_point):\n",
        "      while(len(child.chromosome) != n):\n",
        "        if(parent.chromosome[crossover_point] not in child.chromosome):\n",
        "          child.chromosome = np.append(child.chromosome, parent.chromosome[crossover_point])\n",
        "        crossover_point = (crossover_point + 1) % n\n",
        "\n",
        "    if(random.random() > cro_prob):\n",
        "      return self, parent\n",
        "    \n",
        "    n = self.size\n",
        "    crossover_point = random.randint(0, n)\n",
        "\n",
        "    child1 = Individual(n,[])\n",
        "    child2 = Individual(n,[])\n",
        "    child1.chromosome = self.chromosome[:crossover_point]\n",
        "    child2.chromosome = parent.chromosome[:crossover_point]\n",
        "\n",
        "    insertValues(child1, parent, n, crossover_point)\n",
        "    insertValues(child2, self, n, crossover_point)\n",
        "\n",
        "    return (child1, child2)\n",
        "\n",
        "  def calculate_cost(self,flow_matrix,distance_matrix):  \n",
        "    cost = 0\n",
        "    for i in range(self.size):\n",
        "      for j in range(i+1,self.size):\n",
        "        cost = cost + distance_matrix[i][j]*flow_matrix[self.chromosome[i]][self.chromosome[j]]\n",
        "    self.cost = cost\n",
        "    \n",
        "\n",
        "\n",
        "  def __str__(self):\n",
        "    return str(self.chromosome)"
      ]
    },
    {
      "cell_type": "code",
      "execution_count": 19,
      "metadata": {
        "id": "Hdg6-0284rrW"
      },
      "outputs": [],
      "source": [
        "def bestTwoOutOfFive(population):\n",
        "    # Select 5 individuals randomly\n",
        "    tournament = [population[random.randint(\n",
        "        0, len(population)-1)] for _ in range(5)]\n",
        "\n",
        "    # return best 2 of five\n",
        "    return sorted(tournament, key=lambda x: x.cost, reverse=False)[:2]\n",
        "\n",
        "\n",
        "def replaceWorst(population, newIndividual):\n",
        "  for i in range(len(population)):\n",
        "    if( population[i].cost > newIndividual.cost ):\n",
        "      population[i] = newIndividual\n",
        "      return \n"
      ]
    },
    {
      "cell_type": "code",
      "execution_count": 20,
      "metadata": {
        "id": "ookZ03k2cj0K"
      },
      "outputs": [],
      "source": [
        "def geneticAlgorithm(f, d, pop_size, cro_prob, mut_prob, ter_cond, bk_fitness):\n",
        "    \"\"\"\n",
        "    Algoritmo genetico\n",
        "    \"\"\"\n",
        "    # Variables Initialization\n",
        "    generations = 1\n",
        "    n = len(f[0])\n",
        "\n",
        "    # INITIALISE population with random candidate solutions\n",
        "    population = [Individual.generateRandom(n) for _ in range(pop_size)]\n",
        "\n",
        "    # EVALUATE each candidate        \n",
        "    for ind in population:\n",
        "        ind.calculate_cost(f,d)\n",
        "\n",
        "    # Sort candidates based on their cost\n",
        "    population.sort(key=lambda x: x.cost, reverse=False)\n",
        "\n",
        "    # Repeat until termination condition is satisfied\n",
        "    while(generations < ter_cond + 1):\n",
        "        # If optimal solution exists and it is reached\n",
        "        if((bk_fitness is not None) and population[0].cost == bk_fitness):\n",
        "            break\n",
        "\n",
        "        # PARENT SELECTION (best two out of five)\n",
        "        father, mother = bestTwoOutOfFive(population)\n",
        "\n",
        "        # CROSSOVER\n",
        "        child1, child2 = father.cutAndCrossfill(mother, cro_prob)\n",
        "\n",
        "        # MUTATION\n",
        "        child1.mutation(mut_prob)\n",
        "        child2.mutation(mut_prob)\n",
        "\n",
        "        # EVALUATION OF NEW CANDIDATES\n",
        "        child1.calculate_cost(f,d)\n",
        "        child2.calculate_cost(f,d)\n",
        "\n",
        "        # SURVIVOR SELECTION\n",
        "        replaceWorst(population, child1)\n",
        "        replaceWorst(population, child2)\n",
        "\n",
        "        generations += 1\n",
        "\n",
        "    return (generations-1, population)\n"
      ]
    },
    {
      "cell_type": "code",
      "execution_count": 21,
      "metadata": {},
      "outputs": [],
      "source": [
        "distance = [[0,22,53,53],\n",
        "            [22,0,40,62],\n",
        "            [53,40,0,55],\n",
        "            [53,62,55,0]]\n",
        "\n",
        "flows = [[0,3,0,2],\n",
        "         [3,0,0,1],\n",
        "         [0,0,0,4],\n",
        "         [2,1,4,0]]\n",
        "\n",
        "best_cost = 395"
      ]
    },
    {
      "cell_type": "code",
      "execution_count": 22,
      "metadata": {},
      "outputs": [
        {
          "name": "stdout",
          "output_type": "stream",
          "text": [
            "25\n",
            "395\n"
          ]
        }
      ],
      "source": [
        "g,p = geneticAlgorithm(flows,distance,10,0.9,0.8,10000,best_cost)\n",
        "print(g)\n",
        "print(p[0].cost)"
      ]
    },
    {
      "cell_type": "code",
      "execution_count": 1,
      "metadata": {
        "id": "tUx1g4dP_dHF"
      },
      "outputs": [],
      "source": [
        "def read_integers(filename):\n",
        "    with open(filename) as f:\n",
        "        return [int(elem) for elem in f.read().split()]\n",
        "\n",
        "file_it = iter(read_integers('lipa20a.dat'))\n",
        "\n",
        "# Number of points\n",
        "n = next(file_it)\n",
        "# Distance between locations\n",
        "A = [[next(file_it) for j in range(n)] for i in range(n)]\n",
        "# Flow between factories\n",
        "B = [[next(file_it) for j in range(n)] for i in range(n)]"
      ]
    },
    {
      "cell_type": "markdown",
      "metadata": {
        "id": "9LYA3s4FrWOr"
      },
      "source": [
        "**Recursos**\n",
        "\n",
        "**Test cases**\n",
        "https://neos-guide.org/content/quadratic-assignment-problem#:~:text=The%20quadratic%20assignment%20problem%20(QAP)%20was%20introduced%20by%20Koopmans%20and,minimize%20the%20total%20assignment%20cost\n",
        "\n",
        "**Datasets**\n",
        "http://www.mgi.polymtl.ca/anjos/qaplib/inst.html"
      ]
    },
    {
      "cell_type": "markdown",
      "metadata": {
        "id": "HwevVkCBqtsF"
      },
      "source": [
        "**Todo**\n",
        "\n",
        "**Prioridad Alta**\n",
        "*   Esqueleto Clase (Dani) ✅\n",
        "*   Esqueleto Algoritmo (Morfin) ✅\n",
        "*   Mutación (Dani) ✅\n",
        "*   Cruzamiento (Morfin) ✅\n",
        "*   Selección de Padres (Dani) ✅\n",
        "*   Reemplazo (Morfin) ✅\n",
        "*   Fitness (Dani) ✅\n",
        "\n",
        "**Prioridad Media**\n",
        "*   Leer el archivo (Ambos) ✅\n",
        "*   Calcular STD, AVG, max, min (Dani)\n",
        "*   Guardar en archivo la mejor solución (Dani)\n",
        "\n",
        "**Prioridad Baja**\n",
        "*   Calibrar parámetros\n",
        "\n",
        "**Necesario**\n",
        "*   Redactar el reporte"
      ]
    },
    {
      "cell_type": "code",
      "execution_count": 4,
      "metadata": {},
      "outputs": [
        {
          "data": {
            "text/plain": [
              "20"
            ]
          },
          "execution_count": 4,
          "metadata": {},
          "output_type": "execute_result"
        }
      ],
      "source": [
        "n"
      ]
    },
    {
      "cell_type": "code",
      "execution_count": null,
      "metadata": {},
      "outputs": [],
      "source": []
    }
  ],
  "metadata": {
    "colab": {
      "collapsed_sections": [],
      "name": "QAP-Morfin-Orozco.ipynb",
      "provenance": []
    },
    "kernelspec": {
      "display_name": "Python 3",
      "name": "python3"
    },
    "language_info": {
      "codemirror_mode": {
        "name": "ipython",
        "version": 3
      },
      "file_extension": ".py",
      "mimetype": "text/x-python",
      "name": "python",
      "nbconvert_exporter": "python",
      "pygments_lexer": "ipython3",
      "version": "3.9.7"
    }
  },
  "nbformat": 4,
  "nbformat_minor": 0
}
